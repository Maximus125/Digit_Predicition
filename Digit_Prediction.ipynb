{
 "cells": [
  {
   "cell_type": "markdown",
   "id": "5F9CNyUXZUI-",
   "metadata": {
    "id": "5F9CNyUXZUI-"
   },
   "source": [
    "### Importing Required Libraries"
   ]
  },
  {
   "cell_type": "code",
   "execution_count": 1,
   "id": "elder-sight",
   "metadata": {
    "executionInfo": {
     "elapsed": 984,
     "status": "ok",
     "timestamp": 1613217840222,
     "user": {
      "displayName": "Abhijeet Das",
      "photoUrl": "https://lh3.googleusercontent.com/a-/AOh14GgV07CVHO1CgZSn9g0SsqB7noyjTf_skWxVV2pG=s64",
      "userId": "16530521049139116584"
     },
     "user_tz": -330
    },
    "id": "elder-sight"
   },
   "outputs": [],
   "source": [
    "import numpy as np\n",
    "import pandas as pd\n",
    "import matplotlib.pyplot as plt"
   ]
  },
  {
   "cell_type": "markdown",
   "id": "selective-sociology",
   "metadata": {
    "id": "selective-sociology"
   },
   "source": [
    "### Loading the MNIST data"
   ]
  },
  {
   "cell_type": "code",
   "execution_count": 2,
   "id": "colored-greeting",
   "metadata": {
    "executionInfo": {
     "elapsed": 3425,
     "status": "ok",
     "timestamp": 1613217842674,
     "user": {
      "displayName": "Abhijeet Das",
      "photoUrl": "https://lh3.googleusercontent.com/a-/AOh14GgV07CVHO1CgZSn9g0SsqB7noyjTf_skWxVV2pG=s64",
      "userId": "16530521049139116584"
     },
     "user_tz": -330
    },
    "id": "colored-greeting"
   },
   "outputs": [],
   "source": [
    "from tensorflow.keras.datasets import mnist\n",
    "(X_train, y_train), (X_test, y_test) = mnist.load_data()"
   ]
  },
  {
   "cell_type": "code",
   "execution_count": 3,
   "id": "primary-organizer",
   "metadata": {
    "colab": {
     "base_uri": "https://localhost:8080/"
    },
    "executionInfo": {
     "elapsed": 3423,
     "status": "ok",
     "timestamp": 1613217842681,
     "user": {
      "displayName": "Abhijeet Das",
      "photoUrl": "https://lh3.googleusercontent.com/a-/AOh14GgV07CVHO1CgZSn9g0SsqB7noyjTf_skWxVV2pG=s64",
      "userId": "16530521049139116584"
     },
     "user_tz": -330
    },
    "id": "primary-organizer",
    "outputId": "094ae7bd-6c84-4386-fcaa-27acc683044f"
   },
   "outputs": [
    {
     "name": "stdout",
     "output_type": "stream",
     "text": [
      "(60000, 28, 28)\n",
      "(60000,)\n",
      "(10000, 28, 28)\n",
      "(10000,)\n"
     ]
    }
   ],
   "source": [
    "print(X_train.shape)\n",
    "print(y_train.shape)\n",
    "print(X_test.shape)\n",
    "print(y_test.shape)"
   ]
  },
  {
   "cell_type": "markdown",
   "id": "temporal-documentation",
   "metadata": {
    "id": "temporal-documentation"
   },
   "source": [
    "### Let's check the first image"
   ]
  },
  {
   "cell_type": "code",
   "execution_count": 4,
   "id": "toxic-canyon",
   "metadata": {
    "colab": {
     "base_uri": "https://localhost:8080/"
    },
    "executionInfo": {
     "elapsed": 3415,
     "status": "ok",
     "timestamp": 1613217842683,
     "user": {
      "displayName": "Abhijeet Das",
      "photoUrl": "https://lh3.googleusercontent.com/a-/AOh14GgV07CVHO1CgZSn9g0SsqB7noyjTf_skWxVV2pG=s64",
      "userId": "16530521049139116584"
     },
     "user_tz": -330
    },
    "id": "toxic-canyon",
    "outputId": "22b19097-c737-4c4d-ba60-3637db40c904"
   },
   "outputs": [
    {
     "data": {
      "text/plain": [
       "(28, 28)"
      ]
     },
     "execution_count": 4,
     "metadata": {
      "tags": []
     },
     "output_type": "execute_result"
    }
   ],
   "source": [
    "image_1 = X_train[0]\n",
    "image_1.shape"
   ]
  },
  {
   "cell_type": "code",
   "execution_count": 5,
   "id": "rural-biology",
   "metadata": {
    "colab": {
     "base_uri": "https://localhost:8080/"
    },
    "executionInfo": {
     "elapsed": 3407,
     "status": "ok",
     "timestamp": 1613217842685,
     "user": {
      "displayName": "Abhijeet Das",
      "photoUrl": "https://lh3.googleusercontent.com/a-/AOh14GgV07CVHO1CgZSn9g0SsqB7noyjTf_skWxVV2pG=s64",
      "userId": "16530521049139116584"
     },
     "user_tz": -330
    },
    "id": "rural-biology",
    "outputId": "3a9e8f6e-1a2d-4129-8799-155583be3c89"
   },
   "outputs": [
    {
     "data": {
      "text/plain": [
       "array([[  0,   0,   0,   0,   0,   0,   0,   0,   0,   0,   0,   0,   0,\n",
       "          0,   0,   0,   0,   0,   0,   0,   0,   0,   0,   0,   0,   0,\n",
       "          0,   0],\n",
       "       [  0,   0,   0,   0,   0,   0,   0,   0,   0,   0,   0,   0,   0,\n",
       "          0,   0,   0,   0,   0,   0,   0,   0,   0,   0,   0,   0,   0,\n",
       "          0,   0],\n",
       "       [  0,   0,   0,   0,   0,   0,   0,   0,   0,   0,   0,   0,   0,\n",
       "          0,   0,   0,   0,   0,   0,   0,   0,   0,   0,   0,   0,   0,\n",
       "          0,   0],\n",
       "       [  0,   0,   0,   0,   0,   0,   0,   0,   0,   0,   0,   0,   0,\n",
       "          0,   0,   0,   0,   0,   0,   0,   0,   0,   0,   0,   0,   0,\n",
       "          0,   0],\n",
       "       [  0,   0,   0,   0,   0,   0,   0,   0,   0,   0,   0,   0,   0,\n",
       "          0,   0,   0,   0,   0,   0,   0,   0,   0,   0,   0,   0,   0,\n",
       "          0,   0],\n",
       "       [  0,   0,   0,   0,   0,   0,   0,   0,   0,   0,   0,   0,   3,\n",
       "         18,  18,  18, 126, 136, 175,  26, 166, 255, 247, 127,   0,   0,\n",
       "          0,   0],\n",
       "       [  0,   0,   0,   0,   0,   0,   0,   0,  30,  36,  94, 154, 170,\n",
       "        253, 253, 253, 253, 253, 225, 172, 253, 242, 195,  64,   0,   0,\n",
       "          0,   0],\n",
       "       [  0,   0,   0,   0,   0,   0,   0,  49, 238, 253, 253, 253, 253,\n",
       "        253, 253, 253, 253, 251,  93,  82,  82,  56,  39,   0,   0,   0,\n",
       "          0,   0],\n",
       "       [  0,   0,   0,   0,   0,   0,   0,  18, 219, 253, 253, 253, 253,\n",
       "        253, 198, 182, 247, 241,   0,   0,   0,   0,   0,   0,   0,   0,\n",
       "          0,   0],\n",
       "       [  0,   0,   0,   0,   0,   0,   0,   0,  80, 156, 107, 253, 253,\n",
       "        205,  11,   0,  43, 154,   0,   0,   0,   0,   0,   0,   0,   0,\n",
       "          0,   0],\n",
       "       [  0,   0,   0,   0,   0,   0,   0,   0,   0,  14,   1, 154, 253,\n",
       "         90,   0,   0,   0,   0,   0,   0,   0,   0,   0,   0,   0,   0,\n",
       "          0,   0],\n",
       "       [  0,   0,   0,   0,   0,   0,   0,   0,   0,   0,   0, 139, 253,\n",
       "        190,   2,   0,   0,   0,   0,   0,   0,   0,   0,   0,   0,   0,\n",
       "          0,   0],\n",
       "       [  0,   0,   0,   0,   0,   0,   0,   0,   0,   0,   0,  11, 190,\n",
       "        253,  70,   0,   0,   0,   0,   0,   0,   0,   0,   0,   0,   0,\n",
       "          0,   0],\n",
       "       [  0,   0,   0,   0,   0,   0,   0,   0,   0,   0,   0,   0,  35,\n",
       "        241, 225, 160, 108,   1,   0,   0,   0,   0,   0,   0,   0,   0,\n",
       "          0,   0],\n",
       "       [  0,   0,   0,   0,   0,   0,   0,   0,   0,   0,   0,   0,   0,\n",
       "         81, 240, 253, 253, 119,  25,   0,   0,   0,   0,   0,   0,   0,\n",
       "          0,   0],\n",
       "       [  0,   0,   0,   0,   0,   0,   0,   0,   0,   0,   0,   0,   0,\n",
       "          0,  45, 186, 253, 253, 150,  27,   0,   0,   0,   0,   0,   0,\n",
       "          0,   0],\n",
       "       [  0,   0,   0,   0,   0,   0,   0,   0,   0,   0,   0,   0,   0,\n",
       "          0,   0,  16,  93, 252, 253, 187,   0,   0,   0,   0,   0,   0,\n",
       "          0,   0],\n",
       "       [  0,   0,   0,   0,   0,   0,   0,   0,   0,   0,   0,   0,   0,\n",
       "          0,   0,   0,   0, 249, 253, 249,  64,   0,   0,   0,   0,   0,\n",
       "          0,   0],\n",
       "       [  0,   0,   0,   0,   0,   0,   0,   0,   0,   0,   0,   0,   0,\n",
       "          0,  46, 130, 183, 253, 253, 207,   2,   0,   0,   0,   0,   0,\n",
       "          0,   0],\n",
       "       [  0,   0,   0,   0,   0,   0,   0,   0,   0,   0,   0,   0,  39,\n",
       "        148, 229, 253, 253, 253, 250, 182,   0,   0,   0,   0,   0,   0,\n",
       "          0,   0],\n",
       "       [  0,   0,   0,   0,   0,   0,   0,   0,   0,   0,  24, 114, 221,\n",
       "        253, 253, 253, 253, 201,  78,   0,   0,   0,   0,   0,   0,   0,\n",
       "          0,   0],\n",
       "       [  0,   0,   0,   0,   0,   0,   0,   0,  23,  66, 213, 253, 253,\n",
       "        253, 253, 198,  81,   2,   0,   0,   0,   0,   0,   0,   0,   0,\n",
       "          0,   0],\n",
       "       [  0,   0,   0,   0,   0,   0,  18, 171, 219, 253, 253, 253, 253,\n",
       "        195,  80,   9,   0,   0,   0,   0,   0,   0,   0,   0,   0,   0,\n",
       "          0,   0],\n",
       "       [  0,   0,   0,   0,  55, 172, 226, 253, 253, 253, 253, 244, 133,\n",
       "         11,   0,   0,   0,   0,   0,   0,   0,   0,   0,   0,   0,   0,\n",
       "          0,   0],\n",
       "       [  0,   0,   0,   0, 136, 253, 253, 253, 212, 135, 132,  16,   0,\n",
       "          0,   0,   0,   0,   0,   0,   0,   0,   0,   0,   0,   0,   0,\n",
       "          0,   0],\n",
       "       [  0,   0,   0,   0,   0,   0,   0,   0,   0,   0,   0,   0,   0,\n",
       "          0,   0,   0,   0,   0,   0,   0,   0,   0,   0,   0,   0,   0,\n",
       "          0,   0],\n",
       "       [  0,   0,   0,   0,   0,   0,   0,   0,   0,   0,   0,   0,   0,\n",
       "          0,   0,   0,   0,   0,   0,   0,   0,   0,   0,   0,   0,   0,\n",
       "          0,   0],\n",
       "       [  0,   0,   0,   0,   0,   0,   0,   0,   0,   0,   0,   0,   0,\n",
       "          0,   0,   0,   0,   0,   0,   0,   0,   0,   0,   0,   0,   0,\n",
       "          0,   0]], dtype=uint8)"
      ]
     },
     "execution_count": 5,
     "metadata": {
      "tags": []
     },
     "output_type": "execute_result"
    }
   ],
   "source": [
    "image_1 #outputs a 2D array of shape 28x28 "
   ]
  },
  {
   "cell_type": "code",
   "execution_count": 6,
   "id": "lightweight-newspaper",
   "metadata": {
    "colab": {
     "base_uri": "https://localhost:8080/",
     "height": 282
    },
    "executionInfo": {
     "elapsed": 3396,
     "status": "ok",
     "timestamp": 1613217842686,
     "user": {
      "displayName": "Abhijeet Das",
      "photoUrl": "https://lh3.googleusercontent.com/a-/AOh14GgV07CVHO1CgZSn9g0SsqB7noyjTf_skWxVV2pG=s64",
      "userId": "16530521049139116584"
     },
     "user_tz": -330
    },
    "id": "lightweight-newspaper",
    "outputId": "717cc0a0-c46a-4bb6-9ec6-5ecd39a94914"
   },
   "outputs": [
    {
     "data": {
      "text/plain": [
       "<matplotlib.image.AxesImage at 0x7f375780f320>"
      ]
     },
     "execution_count": 6,
     "metadata": {
      "tags": []
     },
     "output_type": "execute_result"
    },
    {
     "data": {
      "image/png": "[encoded data removed]",
      "text/plain": [
       "<Figure size 432x288 with 1 Axes>"
      ]
     },
     "metadata": {
      "needs_background": "light",
      "tags": []
     },
     "output_type": "display_data"
    }
   ],
   "source": [
    "plt.imshow(image_1, cmap='binary')  "
   ]
  },
  {
   "cell_type": "code",
   "execution_count": 7,
   "id": "normal-checklist",
   "metadata": {
    "colab": {
     "base_uri": "https://localhost:8080/"
    },
    "executionInfo": {
     "elapsed": 3385,
     "status": "ok",
     "timestamp": 1613217842687,
     "user": {
      "displayName": "Abhijeet Das",
      "photoUrl": "https://lh3.googleusercontent.com/a-/AOh14GgV07CVHO1CgZSn9g0SsqB7noyjTf_skWxVV2pG=s64",
      "userId": "16530521049139116584"
     },
     "user_tz": -330
    },
    "id": "normal-checklist",
    "outputId": "5d1fc10c-c4d1-4f11-f5a1-e0caef989df1"
   },
   "outputs": [
    {
     "data": {
      "text/plain": [
       "5"
      ]
     },
     "execution_count": 7,
     "metadata": {
      "tags": []
     },
     "output_type": "execute_result"
    }
   ],
   "source": [
    "#Looks like the first image in X_train is 5. Let us see the actual output in y_train\n",
    "y_train[0]"
   ]
  },
  {
   "cell_type": "markdown",
   "id": "mature-orange",
   "metadata": {
    "id": "mature-orange"
   },
   "source": [
    " ### For easier and faster computation, we need to scale the X_train and X_test values between 0 to 1"
   ]
  },
  {
   "cell_type": "markdown",
   "id": "attended-record",
   "metadata": {
    "id": "attended-record"
   },
   "source": [
    "### Since the X_train and X_test has min value as 0 and max value as 255, we divide the values by 255"
   ]
  },
  {
   "cell_type": "code",
   "execution_count": 8,
   "id": "metropolitan-supervision",
   "metadata": {
    "executionInfo": {
     "elapsed": 4225,
     "status": "ok",
     "timestamp": 1613217843535,
     "user": {
      "displayName": "Abhijeet Das",
      "photoUrl": "https://lh3.googleusercontent.com/a-/AOh14GgV07CVHO1CgZSn9g0SsqB7noyjTf_skWxVV2pG=s64",
      "userId": "16530521049139116584"
     },
     "user_tz": -330
    },
    "id": "metropolitan-supervision"
   },
   "outputs": [],
   "source": [
    "X_train = X_train/255"
   ]
  },
  {
   "cell_type": "code",
   "execution_count": 9,
   "id": "known-dialogue",
   "metadata": {
    "executionInfo": {
     "elapsed": 4219,
     "status": "ok",
     "timestamp": 1613217843535,
     "user": {
      "displayName": "Abhijeet Das",
      "photoUrl": "https://lh3.googleusercontent.com/a-/AOh14GgV07CVHO1CgZSn9g0SsqB7noyjTf_skWxVV2pG=s64",
      "userId": "16530521049139116584"
     },
     "user_tz": -330
    },
    "id": "known-dialogue"
   },
   "outputs": [],
   "source": [
    "X_test = X_test/255"
   ]
  },
  {
   "cell_type": "code",
   "execution_count": 10,
   "id": "reflected-visit",
   "metadata": {
    "colab": {
     "base_uri": "https://localhost:8080/"
    },
    "executionInfo": {
     "elapsed": 4212,
     "status": "ok",
     "timestamp": 1613217843536,
     "user": {
      "displayName": "Abhijeet Das",
      "photoUrl": "https://lh3.googleusercontent.com/a-/AOh14GgV07CVHO1CgZSn9g0SsqB7noyjTf_skWxVV2pG=s64",
      "userId": "16530521049139116584"
     },
     "user_tz": -330
    },
    "id": "reflected-visit",
    "outputId": "e90be5ba-7a32-4561-8ccd-9d9da99016f6"
   },
   "outputs": [
    {
     "data": {
      "text/plain": [
       "array([[0.        , 0.        , 0.        , 0.        , 0.        ,\n",
       "        0.        , 0.        , 0.        , 0.        , 0.        ,\n",
       "        0.        , 0.        , 0.        , 0.        , 0.        ,\n",
       "        0.        , 0.        , 0.        , 0.        , 0.        ,\n",
       "        0.        , 0.        , 0.        , 0.        , 0.        ,\n",
       "        0.        , 0.        , 0.        ],\n",
       "       [0.        , 0.        , 0.        , 0.        , 0.        ,\n",
       "        0.        , 0.        , 0.        , 0.        , 0.        ,\n",
       "        0.        , 0.        , 0.        , 0.        , 0.        ,\n",
       "        0.        , 0.        , 0.        , 0.        , 0.        ,\n",
       "        0.        , 0.        , 0.        , 0.        , 0.        ,\n",
       "        0.        , 0.        , 0.        ],\n",
       "       [0.        , 0.        , 0.        , 0.        , 0.        ,\n",
       "        0.        , 0.        , 0.        , 0.        , 0.        ,\n",
       "        0.        , 0.        , 0.        , 0.        , 0.        ,\n",
       "        0.        , 0.        , 0.        , 0.        , 0.        ,\n",
       "        0.        , 0.        , 0.        , 0.        , 0.        ,\n",
       "        0.        , 0.        , 0.        ],\n",
       "       [0.        , 0.        , 0.        , 0.        , 0.        ,\n",
       "        0.        , 0.        , 0.        , 0.        , 0.        ,\n",
       "        0.        , 0.        , 0.        , 0.        , 0.        ,\n",
       "        0.        , 0.        , 0.        , 0.        , 0.        ,\n",
       "        0.        , 0.        , 0.        , 0.        , 0.        ,\n",
       "        0.        , 0.        , 0.        ],\n",
       "       [0.        , 0.        , 0.        , 0.        , 0.        ,\n",
       "        0.        , 0.        , 0.        , 0.        , 0.        ,\n",
       "        0.        , 0.        , 0.        , 0.        , 0.        ,\n",
       "        0.        , 0.        , 0.        , 0.        , 0.        ,\n",
       "        0.        , 0.        , 0.        , 0.        , 0.        ,\n",
       "        0.        , 0.        , 0.        ],\n",
       "       [0.        , 0.        , 0.        , 0.        , 0.        ,\n",
       "        0.        , 0.        , 0.        , 0.        , 0.        ,\n",
       "        0.        , 0.        , 0.01176471, 0.07058824, 0.07058824,\n",
       "        0.07058824, 0.49411765, 0.53333333, 0.68627451, 0.10196078,\n",
       "        0.65098039, 1.        , 0.96862745, 0.49803922, 0.        ,\n",
       "        0.        , 0.        , 0.        ],\n",
       "       [0.        , 0.        , 0.        , 0.        , 0.        ,\n",
       "        0.        , 0.        , 0.        , 0.11764706, 0.14117647,\n",
       "        0.36862745, 0.60392157, 0.66666667, 0.99215686, 0.99215686,\n",
       "        0.99215686, 0.99215686, 0.99215686, 0.88235294, 0.6745098 ,\n",
       "        0.99215686, 0.94901961, 0.76470588, 0.25098039, 0.        ,\n",
       "        0.        , 0.        , 0.        ],\n",
       "       [0.        , 0.        , 0.        , 0.        , 0.        ,\n",
       "        0.        , 0.        , 0.19215686, 0.93333333, 0.99215686,\n",
       "        0.99215686, 0.99215686, 0.99215686, 0.99215686, 0.99215686,\n",
       "        0.99215686, 0.99215686, 0.98431373, 0.36470588, 0.32156863,\n",
       "        0.32156863, 0.21960784, 0.15294118, 0.        , 0.        ,\n",
       "        0.        , 0.        , 0.        ],\n",
       "       [0.        , 0.        , 0.        , 0.        , 0.        ,\n",
       "        0.        , 0.        , 0.07058824, 0.85882353, 0.99215686,\n",
       "        0.99215686, 0.99215686, 0.99215686, 0.99215686, 0.77647059,\n",
       "        0.71372549, 0.96862745, 0.94509804, 0.        , 0.        ,\n",
       "        0.        , 0.        , 0.        , 0.        , 0.        ,\n",
       "        0.        , 0.        , 0.        ],\n",
       "       [0.        , 0.        , 0.        , 0.        , 0.        ,\n",
       "        0.        , 0.        , 0.        , 0.31372549, 0.61176471,\n",
       "        0.41960784, 0.99215686, 0.99215686, 0.80392157, 0.04313725,\n",
       "        0.        , 0.16862745, 0.60392157, 0.        , 0.        ,\n",
       "        0.        , 0.        , 0.        , 0.        , 0.        ,\n",
       "        0.        , 0.        , 0.        ],\n",
       "       [0.        , 0.        , 0.        , 0.        , 0.        ,\n",
       "        0.        , 0.        , 0.        , 0.        , 0.05490196,\n",
       "        0.00392157, 0.60392157, 0.99215686, 0.35294118, 0.        ,\n",
       "        0.        , 0.        , 0.        , 0.        , 0.        ,\n",
       "        0.        , 0.        , 0.        , 0.        , 0.        ,\n",
       "        0.        , 0.        , 0.        ],\n",
       "       [0.        , 0.        , 0.        , 0.        , 0.        ,\n",
       "        0.        , 0.        , 0.        , 0.        , 0.        ,\n",
       "        0.        , 0.54509804, 0.99215686, 0.74509804, 0.00784314,\n",
       "        0.        , 0.        , 0.        , 0.        , 0.        ,\n",
       "        0.        , 0.        , 0.        , 0.        , 0.        ,\n",
       "        0.        , 0.        , 0.        ],\n",
       "       [0.        , 0.        , 0.        , 0.        , 0.        ,\n",
       "        0.        , 0.        , 0.        , 0.        , 0.        ,\n",
       "        0.        , 0.04313725, 0.74509804, 0.99215686, 0.2745098 ,\n",
       "        0.        , 0.        , 0.        , 0.        , 0.        ,\n",
       "        0.        , 0.        , 0.        , 0.        , 0.        ,\n",
       "        0.        , 0.        , 0.        ],\n",
       "       [0.        , 0.        , 0.        , 0.        , 0.        ,\n",
       "        0.        , 0.        , 0.        , 0.        , 0.        ,\n",
       "        0.        , 0.        , 0.1372549 , 0.94509804, 0.88235294,\n",
       "        0.62745098, 0.42352941, 0.00392157, 0.        , 0.        ,\n",
       "        0.        , 0.        , 0.        , 0.        , 0.        ,\n",
       "        0.        , 0.        , 0.        ],\n",
       "       [0.        , 0.        , 0.        , 0.        , 0.        ,\n",
       "        0.        , 0.        , 0.        , 0.        , 0.        ,\n",
       "        0.        , 0.        , 0.        , 0.31764706, 0.94117647,\n",
       "        0.99215686, 0.99215686, 0.46666667, 0.09803922, 0.        ,\n",
       "        0.        , 0.        , 0.        , 0.        , 0.        ,\n",
       "        0.        , 0.        , 0.        ],\n",
       "       [0.        , 0.        , 0.        , 0.        , 0.        ,\n",
       "        0.        , 0.        , 0.        , 0.        , 0.        ,\n",
       "        0.        , 0.        , 0.        , 0.        , 0.17647059,\n",
       "        0.72941176, 0.99215686, 0.99215686, 0.58823529, 0.10588235,\n",
       "        0.        , 0.        , 0.        , 0.        , 0.        ,\n",
       "        0.        , 0.        , 0.        ],\n",
       "       [0.        , 0.        , 0.        , 0.        , 0.        ,\n",
       "        0.        , 0.        , 0.        , 0.        , 0.        ,\n",
       "        0.        , 0.        , 0.        , 0.        , 0.        ,\n",
       "        0.0627451 , 0.36470588, 0.98823529, 0.99215686, 0.73333333,\n",
       "        0.        , 0.        , 0.        , 0.        , 0.        ,\n",
       "        0.        , 0.        , 0.        ],\n",
       "       [0.        , 0.        , 0.        , 0.        , 0.        ,\n",
       "        0.        , 0.        , 0.        , 0.        , 0.        ,\n",
       "        0.        , 0.        , 0.        , 0.        , 0.        ,\n",
       "        0.        , 0.        , 0.97647059, 0.99215686, 0.97647059,\n",
       "        0.25098039, 0.        , 0.        , 0.        , 0.        ,\n",
       "        0.        , 0.        , 0.        ],\n",
       "       [0.        , 0.        , 0.        , 0.        , 0.        ,\n",
       "        0.        , 0.        , 0.        , 0.        , 0.        ,\n",
       "        0.        , 0.        , 0.        , 0.        , 0.18039216,\n",
       "        0.50980392, 0.71764706, 0.99215686, 0.99215686, 0.81176471,\n",
       "        0.00784314, 0.        , 0.        , 0.        , 0.        ,\n",
       "        0.        , 0.        , 0.        ],\n",
       "       [0.        , 0.        , 0.        , 0.        , 0.        ,\n",
       "        0.        , 0.        , 0.        , 0.        , 0.        ,\n",
       "        0.        , 0.        , 0.15294118, 0.58039216, 0.89803922,\n",
       "        0.99215686, 0.99215686, 0.99215686, 0.98039216, 0.71372549,\n",
       "        0.        , 0.        , 0.        , 0.        , 0.        ,\n",
       "        0.        , 0.        , 0.        ],\n",
       "       [0.        , 0.        , 0.        , 0.        , 0.        ,\n",
       "        0.        , 0.        , 0.        , 0.        , 0.        ,\n",
       "        0.09411765, 0.44705882, 0.86666667, 0.99215686, 0.99215686,\n",
       "        0.99215686, 0.99215686, 0.78823529, 0.30588235, 0.        ,\n",
       "        0.        , 0.        , 0.        , 0.        , 0.        ,\n",
       "        0.        , 0.        , 0.        ],\n",
       "       [0.        , 0.        , 0.        , 0.        , 0.        ,\n",
       "        0.        , 0.        , 0.        , 0.09019608, 0.25882353,\n",
       "        0.83529412, 0.99215686, 0.99215686, 0.99215686, 0.99215686,\n",
       "        0.77647059, 0.31764706, 0.00784314, 0.        , 0.        ,\n",
       "        0.        , 0.        , 0.        , 0.        , 0.        ,\n",
       "        0.        , 0.        , 0.        ],\n",
       "       [0.        , 0.        , 0.        , 0.        , 0.        ,\n",
       "        0.        , 0.07058824, 0.67058824, 0.85882353, 0.99215686,\n",
       "        0.99215686, 0.99215686, 0.99215686, 0.76470588, 0.31372549,\n",
       "        0.03529412, 0.        , 0.        , 0.        , 0.        ,\n",
       "        0.        , 0.        , 0.        , 0.        , 0.        ,\n",
       "        0.        , 0.        , 0.        ],\n",
       "       [0.        , 0.        , 0.        , 0.        , 0.21568627,\n",
       "        0.6745098 , 0.88627451, 0.99215686, 0.99215686, 0.99215686,\n",
       "        0.99215686, 0.95686275, 0.52156863, 0.04313725, 0.        ,\n",
       "        0.        , 0.        , 0.        , 0.        , 0.        ,\n",
       "        0.        , 0.        , 0.        , 0.        , 0.        ,\n",
       "        0.        , 0.        , 0.        ],\n",
       "       [0.        , 0.        , 0.        , 0.        , 0.53333333,\n",
       "        0.99215686, 0.99215686, 0.99215686, 0.83137255, 0.52941176,\n",
       "        0.51764706, 0.0627451 , 0.        , 0.        , 0.        ,\n",
       "        0.        , 0.        , 0.        , 0.        , 0.        ,\n",
       "        0.        , 0.        , 0.        , 0.        , 0.        ,\n",
       "        0.        , 0.        , 0.        ],\n",
       "       [0.        , 0.        , 0.        , 0.        , 0.        ,\n",
       "        0.        , 0.        , 0.        , 0.        , 0.        ,\n",
       "        0.        , 0.        , 0.        , 0.        , 0.        ,\n",
       "        0.        , 0.        , 0.        , 0.        , 0.        ,\n",
       "        0.        , 0.        , 0.        , 0.        , 0.        ,\n",
       "        0.        , 0.        , 0.        ],\n",
       "       [0.        , 0.        , 0.        , 0.        , 0.        ,\n",
       "        0.        , 0.        , 0.        , 0.        , 0.        ,\n",
       "        0.        , 0.        , 0.        , 0.        , 0.        ,\n",
       "        0.        , 0.        , 0.        , 0.        , 0.        ,\n",
       "        0.        , 0.        , 0.        , 0.        , 0.        ,\n",
       "        0.        , 0.        , 0.        ],\n",
       "       [0.        , 0.        , 0.        , 0.        , 0.        ,\n",
       "        0.        , 0.        , 0.        , 0.        , 0.        ,\n",
       "        0.        , 0.        , 0.        , 0.        , 0.        ,\n",
       "        0.        , 0.        , 0.        , 0.        , 0.        ,\n",
       "        0.        , 0.        , 0.        , 0.        , 0.        ,\n",
       "        0.        , 0.        , 0.        ]])"
      ]
     },
     "execution_count": 10,
     "metadata": {
      "tags": []
     },
     "output_type": "execute_result"
    }
   ],
   "source": [
    "X_train[0]"
   ]
  },
  {
   "cell_type": "markdown",
   "id": "confident-summer",
   "metadata": {
    "id": "confident-summer"
   },
   "source": [
    "### We also need to one-hot encode our labels"
   ]
  },
  {
   "cell_type": "code",
   "execution_count": 11,
   "id": "behavioral-possession",
   "metadata": {
    "colab": {
     "base_uri": "https://localhost:8080/"
    },
    "executionInfo": {
     "elapsed": 4203,
     "status": "ok",
     "timestamp": 1613217843536,
     "user": {
      "displayName": "Abhijeet Das",
      "photoUrl": "https://lh3.googleusercontent.com/a-/AOh14GgV07CVHO1CgZSn9g0SsqB7noyjTf_skWxVV2pG=s64",
      "userId": "16530521049139116584"
     },
     "user_tz": -330
    },
    "id": "behavioral-possession",
    "outputId": "c25a6ea4-85a7-41a5-aeee-dfd475f9aa25"
   },
   "outputs": [
    {
     "data": {
      "text/plain": [
       "array([5, 0, 4, ..., 5, 6, 8], dtype=uint8)"
      ]
     },
     "execution_count": 11,
     "metadata": {
      "tags": []
     },
     "output_type": "execute_result"
    }
   ],
   "source": [
    "y_train"
   ]
  },
  {
   "cell_type": "code",
   "execution_count": 12,
   "id": "dried-explanation",
   "metadata": {
    "executionInfo": {
     "elapsed": 4196,
     "status": "ok",
     "timestamp": 1613217843537,
     "user": {
      "displayName": "Abhijeet Das",
      "photoUrl": "https://lh3.googleusercontent.com/a-/AOh14GgV07CVHO1CgZSn9g0SsqB7noyjTf_skWxVV2pG=s64",
      "userId": "16530521049139116584"
     },
     "user_tz": -330
    },
    "id": "dried-explanation"
   },
   "outputs": [],
   "source": [
    "from tensorflow.keras.utils import to_categorical\n",
    "y_train_cat = to_categorical(y_train)\n",
    "y_test_cat = to_categorical(y_test)"
   ]
  },
  {
   "cell_type": "code",
   "execution_count": 13,
   "id": "ideal-supplement",
   "metadata": {
    "colab": {
     "base_uri": "https://localhost:8080/"
    },
    "executionInfo": {
     "elapsed": 4188,
     "status": "ok",
     "timestamp": 1613217843537,
     "user": {
      "displayName": "Abhijeet Das",
      "photoUrl": "https://lh3.googleusercontent.com/a-/AOh14GgV07CVHO1CgZSn9g0SsqB7noyjTf_skWxVV2pG=s64",
      "userId": "16530521049139116584"
     },
     "user_tz": -330
    },
    "id": "ideal-supplement",
    "outputId": "cc67eeee-f212-43ea-b294-56ea1599633e"
   },
   "outputs": [
    {
     "data": {
      "text/plain": [
       "array([[0., 0., 0., ..., 0., 0., 0.],\n",
       "       [1., 0., 0., ..., 0., 0., 0.],\n",
       "       [0., 0., 0., ..., 0., 0., 0.],\n",
       "       ...,\n",
       "       [0., 0., 0., ..., 0., 0., 0.],\n",
       "       [0., 0., 0., ..., 0., 0., 0.],\n",
       "       [0., 0., 0., ..., 0., 1., 0.]], dtype=float32)"
      ]
     },
     "execution_count": 13,
     "metadata": {
      "tags": []
     },
     "output_type": "execute_result"
    }
   ],
   "source": [
    "y_train_cat"
   ]
  },
  {
   "cell_type": "code",
   "execution_count": 14,
   "id": "sunset-violin",
   "metadata": {
    "colab": {
     "base_uri": "https://localhost:8080/"
    },
    "executionInfo": {
     "elapsed": 4178,
     "status": "ok",
     "timestamp": 1613217843538,
     "user": {
      "displayName": "Abhijeet Das",
      "photoUrl": "https://lh3.googleusercontent.com/a-/AOh14GgV07CVHO1CgZSn9g0SsqB7noyjTf_skWxVV2pG=s64",
      "userId": "16530521049139116584"
     },
     "user_tz": -330
    },
    "id": "sunset-violin",
    "outputId": "23dd9d79-31a6-42d6-9be8-f0de9107ded9"
   },
   "outputs": [
    {
     "data": {
      "text/plain": [
       "array([0., 0., 0., 0., 0., 1., 0., 0., 0., 0.], dtype=float32)"
      ]
     },
     "execution_count": 14,
     "metadata": {
      "tags": []
     },
     "output_type": "execute_result"
    }
   ],
   "source": [
    "y_train_cat[0]"
   ]
  },
  {
   "cell_type": "code",
   "execution_count": 15,
   "id": "tender-double",
   "metadata": {
    "colab": {
     "base_uri": "https://localhost:8080/"
    },
    "executionInfo": {
     "elapsed": 4169,
     "status": "ok",
     "timestamp": 1613217843538,
     "user": {
      "displayName": "Abhijeet Das",
      "photoUrl": "https://lh3.googleusercontent.com/a-/AOh14GgV07CVHO1CgZSn9g0SsqB7noyjTf_skWxVV2pG=s64",
      "userId": "16530521049139116584"
     },
     "user_tz": -330
    },
    "id": "tender-double",
    "outputId": "851679e0-813e-429c-a5d2-40f2d21d8416"
   },
   "outputs": [
    {
     "name": "stdout",
     "output_type": "stream",
     "text": [
      "(60000, 28, 28)\n",
      "(60000, 10)\n",
      "(10000, 28, 28)\n",
      "(10000, 10)\n",
      "(60000,)\n",
      "(10000,)\n"
     ]
    }
   ],
   "source": [
    "print(X_train.shape)\n",
    "print(y_train_cat.shape)\n",
    "print(X_test.shape)\n",
    "print(y_test_cat.shape)\n",
    "\n",
    "print(y_train.shape)\n",
    "print(y_test.shape)"
   ]
  },
  {
   "cell_type": "markdown",
   "id": "lightweight-transformation",
   "metadata": {
    "id": "lightweight-transformation"
   },
   "source": [
    "#### We also need to mention what kind of image this is. All images here are grayscale images, i.e. having only 1 color channel, unlike RGB which has 3 color channels\n",
    "#### Hence to mention it we need to reshape our image arrays from 3-dim to 4-dim"
   ]
  },
  {
   "cell_type": "code",
   "execution_count": 16,
   "id": "dangerous-synthetic",
   "metadata": {
    "executionInfo": {
     "elapsed": 4162,
     "status": "ok",
     "timestamp": 1613217843539,
     "user": {
      "displayName": "Abhijeet Das",
      "photoUrl": "https://lh3.googleusercontent.com/a-/AOh14GgV07CVHO1CgZSn9g0SsqB7noyjTf_skWxVV2pG=s64",
      "userId": "16530521049139116584"
     },
     "user_tz": -330
    },
    "id": "dangerous-synthetic"
   },
   "outputs": [],
   "source": [
    "X_train = X_train.reshape(60000,28,28,1)\n",
    "X_test = X_test.reshape(10000,28,28,1)"
   ]
  },
  {
   "cell_type": "markdown",
   "id": "placed-mayor",
   "metadata": {
    "id": "placed-mayor"
   },
   "source": [
    "### Convolutional Model Creation"
   ]
  },
  {
   "cell_type": "code",
   "execution_count": 17,
   "id": "suitable-blink",
   "metadata": {
    "executionInfo": {
     "elapsed": 4518,
     "status": "ok",
     "timestamp": 1613217843902,
     "user": {
      "displayName": "Abhijeet Das",
      "photoUrl": "https://lh3.googleusercontent.com/a-/AOh14GgV07CVHO1CgZSn9g0SsqB7noyjTf_skWxVV2pG=s64",
      "userId": "16530521049139116584"
     },
     "user_tz": -330
    },
    "id": "suitable-blink"
   },
   "outputs": [],
   "source": [
    "from tensorflow.keras.models import Sequential\n",
    "from tensorflow.keras.layers import Conv2D\n",
    "from tensorflow.keras.layers import MaxPooling2D\n",
    "from tensorflow.keras.layers import Flatten\n",
    "from tensorflow.keras.layers import Dense\n",
    "\n",
    "model = Sequential()\n",
    "model.add(Conv2D(filters=32, kernel_size=(3,3), strides=(1,1), padding='same', activation='relu', input_shape=(28,28,1)))\n",
    "model.add(MaxPooling2D(pool_size=(2,2)))\n",
    "model.add(Conv2D(filters=64, kernel_size=(3,3), strides=(1,1), padding='same', activation='relu'))\n",
    "model.add(MaxPooling2D(pool_size=(2,2)))\n",
    "model.add(Flatten())\n",
    "model.add(Dense(128, activation='relu'))\n",
    "model.add(Dense(10, activation='softmax'))"
   ]
  },
  {
   "cell_type": "markdown",
   "id": "Tiu13-AIX5lF",
   "metadata": {
    "id": "Tiu13-AIX5lF"
   },
   "source": [
    "### Model Summary"
   ]
  },
  {
   "cell_type": "code",
   "execution_count": 18,
   "id": "discrete-birth",
   "metadata": {
    "colab": {
     "base_uri": "https://localhost:8080/"
    },
    "executionInfo": {
     "elapsed": 4512,
     "status": "ok",
     "timestamp": 1613217843903,
     "user": {
      "displayName": "Abhijeet Das",
      "photoUrl": "https://lh3.googleusercontent.com/a-/AOh14GgV07CVHO1CgZSn9g0SsqB7noyjTf_skWxVV2pG=s64",
      "userId": "16530521049139116584"
     },
     "user_tz": -330
    },
    "id": "discrete-birth",
    "outputId": "d6e23401-f906-4615-8e5a-9739369b5c07"
   },
   "outputs": [
    {
     "name": "stdout",
     "output_type": "stream",
     "text": [
      "Model: \"sequential\"\n",
      "_________________________________________________________________\n",
      "Layer (type)                 Output Shape              Param #   \n",
      "=================================================================\n",
      "conv2d (Conv2D)              (None, 28, 28, 32)        320       \n",
      "_________________________________________________________________\n",
      "max_pooling2d (MaxPooling2D) (None, 14, 14, 32)        0         \n",
      "_________________________________________________________________\n",
      "conv2d_1 (Conv2D)            (None, 14, 14, 64)        18496     \n",
      "_________________________________________________________________\n",
      "max_pooling2d_1 (MaxPooling2 (None, 7, 7, 64)          0         \n",
      "_________________________________________________________________\n",
      "flatten (Flatten)            (None, 3136)              0         \n",
      "_________________________________________________________________\n",
      "dense (Dense)                (None, 128)               401536    \n",
      "_________________________________________________________________\n",
      "dense_1 (Dense)              (None, 10)                1290      \n",
      "=================================================================\n",
      "Total params: 421,642\n",
      "Trainable params: 421,642\n",
      "Non-trainable params: 0\n",
      "_________________________________________________________________\n"
     ]
    }
   ],
   "source": [
    "model.summary()"
   ]
  },
  {
   "cell_type": "markdown",
   "id": "CQS-G2auX9o8",
   "metadata": {
    "id": "CQS-G2auX9o8"
   },
   "source": [
    "### Model Compilation"
   ]
  },
  {
   "cell_type": "code",
   "execution_count": 19,
   "id": "therapeutic-seller",
   "metadata": {
    "executionInfo": {
     "elapsed": 4503,
     "status": "ok",
     "timestamp": 1613217843904,
     "user": {
      "displayName": "Abhijeet Das",
      "photoUrl": "https://lh3.googleusercontent.com/a-/AOh14GgV07CVHO1CgZSn9g0SsqB7noyjTf_skWxVV2pG=s64",
      "userId": "16530521049139116584"
     },
     "user_tz": -330
    },
    "id": "therapeutic-seller"
   },
   "outputs": [],
   "source": [
    "model.compile(loss='categorical_crossentropy', optimizer='adam', metrics=['accuracy'])"
   ]
  },
  {
   "cell_type": "markdown",
   "id": "U4MUTcLxYA2V",
   "metadata": {
    "id": "U4MUTcLxYA2V"
   },
   "source": [
    "### Applying Early Stopping to prevent Overfitting"
   ]
  },
  {
   "cell_type": "code",
   "execution_count": 20,
   "id": "stuffed-inclusion",
   "metadata": {
    "colab": {
     "base_uri": "https://localhost:8080/"
    },
    "executionInfo": {
     "elapsed": 32308,
     "status": "ok",
     "timestamp": 1613217871717,
     "user": {
      "displayName": "Abhijeet Das",
      "photoUrl": "https://lh3.googleusercontent.com/a-/AOh14GgV07CVHO1CgZSn9g0SsqB7noyjTf_skWxVV2pG=s64",
      "userId": "16530521049139116584"
     },
     "user_tz": -330
    },
    "id": "stuffed-inclusion",
    "outputId": "42aae179-772d-4c1b-a8e2-9bdaabedb2b7"
   },
   "outputs": [
    {
     "name": "stdout",
     "output_type": "stream",
     "text": [
      "Epoch 1/10\n",
      "1875/1875 [==============================] - 7s 3ms/step - loss: 0.2849 - accuracy: 0.9107 - val_loss: 0.0506 - val_accuracy: 0.9828\n",
      "Epoch 2/10\n",
      "1875/1875 [==============================] - 5s 3ms/step - loss: 0.0398 - accuracy: 0.9876 - val_loss: 0.0300 - val_accuracy: 0.9892\n",
      "Epoch 3/10\n",
      "1875/1875 [==============================] - 5s 3ms/step - loss: 0.0257 - accuracy: 0.9914 - val_loss: 0.0249 - val_accuracy: 0.9916\n",
      "Epoch 4/10\n",
      "1875/1875 [==============================] - 5s 3ms/step - loss: 0.0175 - accuracy: 0.9942 - val_loss: 0.0223 - val_accuracy: 0.9927\n",
      "Epoch 5/10\n",
      "1875/1875 [==============================] - 5s 3ms/step - loss: 0.0114 - accuracy: 0.9964 - val_loss: 0.0267 - val_accuracy: 0.9912\n"
     ]
    },
    {
     "data": {
      "text/plain": [
       "<tensorflow.python.keras.callbacks.History at 0x7f37401846d8>"
      ]
     },
     "execution_count": 20,
     "metadata": {
      "tags": []
     },
     "output_type": "execute_result"
    }
   ],
   "source": [
    "from tensorflow.keras.callbacks import EarlyStopping\n",
    "earlystop = EarlyStopping(monitor='val_loss')\n",
    "\n",
    "model.fit(X_train, y_train_cat, epochs=10, validation_data=(X_test, y_test_cat), callbacks=[earlystop])"
   ]
  },
  {
   "cell_type": "markdown",
   "id": "U5B084fAYL9c",
   "metadata": {
    "id": "U5B084fAYL9c"
   },
   "source": [
    "### Training Loss vs Validation Loss"
   ]
  },
  {
   "cell_type": "code",
   "execution_count": 21,
   "id": "southern-payday",
   "metadata": {
    "colab": {
     "base_uri": "https://localhost:8080/",
     "height": 282
    },
    "executionInfo": {
     "elapsed": 32304,
     "status": "ok",
     "timestamp": 1613217871722,
     "user": {
      "displayName": "Abhijeet Das",
      "photoUrl": "https://lh3.googleusercontent.com/a-/AOh14GgV07CVHO1CgZSn9g0SsqB7noyjTf_skWxVV2pG=s64",
      "userId": "16530521049139116584"
     },
     "user_tz": -330
    },
    "id": "southern-payday",
    "outputId": "6a40d51f-13f4-4f5a-ab89-301bae5c9db0"
   },
   "outputs": [
    {
     "data": {
      "text/plain": [
       "<matplotlib.axes._subplots.AxesSubplot at 0x7f36fe1cf6d8>"
      ]
     },
     "execution_count": 21,
     "metadata": {
      "tags": []
     },
     "output_type": "execute_result"
    },
    {
     "data": {
      "image/png": "[encoded data removed]",
      "text/plain": [
       "<Figure size 432x288 with 1 Axes>"
      ]
     },
     "metadata": {
      "needs_background": "light",
      "tags": []
     },
     "output_type": "display_data"
    }
   ],
   "source": [
    "metrics = pd.DataFrame(model.history.history)\n",
    "metrics[['loss','val_loss']].plot()"
   ]
  },
  {
   "cell_type": "markdown",
   "id": "NYsmfLXCYa2d",
   "metadata": {
    "id": "NYsmfLXCYa2d"
   },
   "source": [
    "### Training Accuracy vs Validation Accuracy"
   ]
  },
  {
   "cell_type": "code",
   "execution_count": 22,
   "id": "seven-practitioner",
   "metadata": {
    "colab": {
     "base_uri": "https://localhost:8080/",
     "height": 282
    },
    "executionInfo": {
     "elapsed": 32294,
     "status": "ok",
     "timestamp": 1613217871725,
     "user": {
      "displayName": "Abhijeet Das",
      "photoUrl": "https://lh3.googleusercontent.com/a-/AOh14GgV07CVHO1CgZSn9g0SsqB7noyjTf_skWxVV2pG=s64",
      "userId": "16530521049139116584"
     },
     "user_tz": -330
    },
    "id": "seven-practitioner",
    "outputId": "2e9c2455-86ba-4d05-a2cd-7c1cab8f2b8f"
   },
   "outputs": [
    {
     "data": {
      "text/plain": [
       "<matplotlib.axes._subplots.AxesSubplot at 0x7f36fe1262b0>"
      ]
     },
     "execution_count": 22,
     "metadata": {
      "tags": []
     },
     "output_type": "execute_result"
    },
    {
     "data": {
      "image/png": "[encoded data removed]",
      "text/plain": [
       "<Figure size 432x288 with 1 Axes>"
      ]
     },
     "metadata": {
      "needs_background": "light",
      "tags": []
     },
     "output_type": "display_data"
    }
   ],
   "source": [
    "metrics[['accuracy','val_accuracy']].plot()"
   ]
  },
  {
   "cell_type": "markdown",
   "id": "1Emv7lXCYgXs",
   "metadata": {
    "id": "1Emv7lXCYgXs"
   },
   "source": [
    "### Evaluation of the above metrics"
   ]
  },
  {
   "cell_type": "code",
   "execution_count": 23,
   "id": "stupid-citizenship",
   "metadata": {
    "colab": {
     "base_uri": "https://localhost:8080/"
    },
    "executionInfo": {
     "elapsed": 36952,
     "status": "ok",
     "timestamp": 1613217876392,
     "user": {
      "displayName": "Abhijeet Das",
      "photoUrl": "https://lh3.googleusercontent.com/a-/AOh14GgV07CVHO1CgZSn9g0SsqB7noyjTf_skWxVV2pG=s64",
      "userId": "16530521049139116584"
     },
     "user_tz": -330
    },
    "id": "stupid-citizenship",
    "outputId": "2cf5f568-1882-4c48-aff1-82a2ff4e2e79"
   },
   "outputs": [
    {
     "name": "stdout",
     "output_type": "stream",
     "text": [
      "1875/1875 [==============================] - 4s 2ms/step - loss: 0.0093 - accuracy: 0.9968\n",
      "313/313 [==============================] - 1s 2ms/step - loss: 0.0267 - accuracy: 0.9912\n",
      "0.009288226254284382 0.9968166947364807\n",
      "0.02668899856507778 0.9911999702453613\n"
     ]
    }
   ],
   "source": [
    "train_loss, train_accuracy = model.evaluate(X_train, y_train_cat)\n",
    "test_loss, test_accuracy = model.evaluate(X_test, y_test_cat)\n",
    "print(train_loss, train_accuracy)\n",
    "print(test_loss, test_accuracy)"
   ]
  },
  {
   "cell_type": "markdown",
   "id": "VQVHangQYmfH",
   "metadata": {
    "id": "VQVHangQYmfH"
   },
   "source": [
    "### Model Prediction"
   ]
  },
  {
   "cell_type": "code",
   "execution_count": 24,
   "id": "binding-irish",
   "metadata": {
    "executionInfo": {
     "elapsed": 37299,
     "status": "ok",
     "timestamp": 1613217876748,
     "user": {
      "displayName": "Abhijeet Das",
      "photoUrl": "https://lh3.googleusercontent.com/a-/AOh14GgV07CVHO1CgZSn9g0SsqB7noyjTf_skWxVV2pG=s64",
      "userId": "16530521049139116584"
     },
     "user_tz": -330
    },
    "id": "binding-irish"
   },
   "outputs": [],
   "source": [
    "y_pred = np.argmax(model.predict(X_test), axis=-1)"
   ]
  },
  {
   "cell_type": "markdown",
   "id": "cyEjWm5_Y67V",
   "metadata": {
    "id": "cyEjWm5_Y67V"
   },
   "source": [
    "#### *Confusion Matrix Results*"
   ]
  },
  {
   "cell_type": "code",
   "execution_count": 25,
   "id": "imposed-integrity",
   "metadata": {
    "colab": {
     "base_uri": "https://localhost:8080/"
    },
    "executionInfo": {
     "elapsed": 37949,
     "status": "ok",
     "timestamp": 1613217877404,
     "user": {
      "displayName": "Abhijeet Das",
      "photoUrl": "https://lh3.googleusercontent.com/a-/AOh14GgV07CVHO1CgZSn9g0SsqB7noyjTf_skWxVV2pG=s64",
      "userId": "16530521049139116584"
     },
     "user_tz": -330
    },
    "id": "imposed-integrity",
    "outputId": "e05e9cf5-3a32-4c84-fb7e-f40595d62a2b"
   },
   "outputs": [
    {
     "data": {
      "text/plain": [
       "array([[ 971,    0,    3,    0,    1,    0,    3,    1,    1,    0],\n",
       "       [   0, 1129,    2,    0,    1,    0,    2,    1,    0,    0],\n",
       "       [   0,    3, 1026,    1,    1,    0,    0,    1,    0,    0],\n",
       "       [   0,    1,    0, 1005,    0,    3,    0,    0,    1,    0],\n",
       "       [   0,    0,    0,    0,  981,    0,    0,    0,    0,    1],\n",
       "       [   1,    0,    0,    8,    0,  881,    2,    0,    0,    0],\n",
       "       [   1,    2,    0,    0,    1,    1,  953,    0,    0,    0],\n",
       "       [   0,    2,    8,    0,    0,    0,    0, 1017,    1,    0],\n",
       "       [   2,    0,    4,    0,    0,    1,    0,    1,  965,    1],\n",
       "       [   0,    2,    0,    3,    9,    3,    0,    4,    4,  984]])"
      ]
     },
     "execution_count": 25,
     "metadata": {
      "tags": []
     },
     "output_type": "execute_result"
    }
   ],
   "source": [
    "from sklearn.metrics import classification_report, confusion_matrix\n",
    "confusion_matrix(y_test, y_pred)"
   ]
  },
  {
   "cell_type": "markdown",
   "id": "iJSRk4UzZE5E",
   "metadata": {
    "id": "iJSRk4UzZE5E"
   },
   "source": [
    "#### *Classification Report Results*"
   ]
  },
  {
   "cell_type": "code",
   "execution_count": 26,
   "id": "turkish-sauce",
   "metadata": {
    "colab": {
     "base_uri": "https://localhost:8080/",
     "height": 71
    },
    "executionInfo": {
     "elapsed": 37943,
     "status": "ok",
     "timestamp": 1613217877408,
     "user": {
      "displayName": "Abhijeet Das",
      "photoUrl": "https://lh3.googleusercontent.com/a-/AOh14GgV07CVHO1CgZSn9g0SsqB7noyjTf_skWxVV2pG=s64",
      "userId": "16530521049139116584"
     },
     "user_tz": -330
    },
    "id": "turkish-sauce",
    "outputId": "1b0ee650-fe99-49fd-e0a3-6837914f2765"
   },
   "outputs": [
    {
     "data": {
      "application/vnd.google.colaboratory.intrinsic+json": {
       "type": "string"
      },
      "text/plain": [
       "'              precision    recall  f1-score   support\\n\\n           0       1.00      0.99      0.99       980\\n           1       0.99      0.99      0.99      1135\\n           2       0.98      0.99      0.99      1032\\n           3       0.99      1.00      0.99      1010\\n           4       0.99      1.00      0.99       982\\n           5       0.99      0.99      0.99       892\\n           6       0.99      0.99      0.99       958\\n           7       0.99      0.99      0.99      1028\\n           8       0.99      0.99      0.99       974\\n           9       1.00      0.98      0.99      1009\\n\\n    accuracy                           0.99     10000\\n   macro avg       0.99      0.99      0.99     10000\\nweighted avg       0.99      0.99      0.99     10000\\n'"
      ]
     },
     "execution_count": 26,
     "metadata": {
      "tags": []
     },
     "output_type": "execute_result"
    }
   ],
   "source": [
    "classification_report(y_test, y_pred)"
   ]
  },
  {
   "cell_type": "markdown",
   "id": "_xv5DbH6Do8G",
   "metadata": {
    "id": "_xv5DbH6Do8G"
   },
   "source": [
    "#### *Checking the prediction on our own choosen image*"
   ]
  },
  {
   "cell_type": "code",
   "execution_count": 34,
   "id": "express-listening",
   "metadata": {
    "colab": {
     "base_uri": "https://localhost:8080/",
     "height": 282
    },
    "executionInfo": {
     "elapsed": 933,
     "status": "ok",
     "timestamp": 1613218213908,
     "user": {
      "displayName": "Abhijeet Das",
      "photoUrl": "https://lh3.googleusercontent.com/a-/AOh14GgV07CVHO1CgZSn9g0SsqB7noyjTf_skWxVV2pG=s64",
      "userId": "16530521049139116584"
     },
     "user_tz": -330
    },
    "id": "express-listening",
    "outputId": "1663d03c-b00d-4fbd-abb3-279763964754"
   },
   "outputs": [
    {
     "data": {
      "text/plain": [
       "<matplotlib.image.AxesImage at 0x7f36c12f4128>"
      ]
     },
     "execution_count": 34,
     "metadata": {
      "tags": []
     },
     "output_type": "execute_result"
    },
    {
     "data": {
      "image/png": "[encoded data removed]",
      "text/plain": [
       "<Figure size 432x288 with 1 Axes>"
      ]
     },
     "metadata": {
      "needs_background": "light",
      "tags": []
     },
     "output_type": "display_data"
    }
   ],
   "source": [
    "X_test_user = X_test[723].reshape(28,28)\n",
    "plt.imshow(X_test_user, cmap='binary')"
   ]
  },
  {
   "cell_type": "code",
   "execution_count": 35,
   "id": "LOHN4zxdEHHw",
   "metadata": {
    "colab": {
     "base_uri": "https://localhost:8080/"
    },
    "executionInfo": {
     "elapsed": 1043,
     "status": "ok",
     "timestamp": 1613218225573,
     "user": {
      "displayName": "Abhijeet Das",
      "photoUrl": "https://lh3.googleusercontent.com/a-/AOh14GgV07CVHO1CgZSn9g0SsqB7noyjTf_skWxVV2pG=s64",
      "userId": "16530521049139116584"
     },
     "user_tz": -330
    },
    "id": "LOHN4zxdEHHw",
    "outputId": "fcdc3f8f-e19b-4cd9-b4bc-2adb838dc2bc"
   },
   "outputs": [
    {
     "name": "stdout",
     "output_type": "stream",
     "text": [
      "0\n"
     ]
    }
   ],
   "source": [
    "print(y_pred[723])"
   ]
  }
 ],
 "metadata": {
  "accelerator": "GPU",
  "colab": {
   "collapsed_sections": [],
   "name": "Digit_Prediction.ipynb",
   "provenance": []
  },
  "kernelspec": {
   "display_name": "Python 3",
   "language": "python",
   "name": "python3"
  },
  "language_info": {
   "codemirror_mode": {
    "name": "ipython",
    "version": 3
   },
   "file_extension": ".py",
   "mimetype": "text/x-python",
   "name": "python",
   "nbconvert_exporter": "python",
   "pygments_lexer": "ipython3",
   "version": "3.8.5"
  }
 },
 "nbformat": 4,
 "nbformat_minor": 5
}
